{
  "cells": [
    {
      "cell_type": "code",
      "execution_count": null,
      "metadata": {
        "id": "QgNahpwri99p"
      },
      "outputs": [],
      "source": [
        "import re\n",
        "from tqdm import tqdm"
      ]
    },
    {
      "cell_type": "markdown",
      "metadata": {
        "id": "IYIx5gnOcSKi"
      },
      "source": [
        "## Download DB"
      ]
    },
    {
      "cell_type": "code",
      "execution_count": null,
      "metadata": {
        "colab": {
          "base_uri": "https://localhost:8080/"
        },
        "id": "1KuUTq6ycPTt",
        "outputId": "ea4f9aa8-a365-40f7-91e3-775426eb2026"
      },
      "outputs": [
        {
          "name": "stdout",
          "output_type": "stream",
          "text": [
            "Downloading...\n",
            "From: https://drive.google.com/uc?id=1IAVWMAYGz-f3jO_WvTsRyWwgmbdIxlNm\n",
            "To: /content/knowledge_base_kyivstar.md\n",
            "\r  0% 0.00/307k [00:00<?, ?B/s]\r100% 307k/307k [00:00<00:00, 75.5MB/s]\n"
          ]
        }
      ],
      "source": [
        "!gdown 1IAVWMAYGz-f3jO_WvTsRyWwgmbdIxlNm"
      ]
    },
    {
      "cell_type": "code",
      "execution_count": null,
      "metadata": {
        "id": "OeOSvHk5ffjd"
      },
      "outputs": [],
      "source": [
        "with open(\"knowledge_base_kyivstar.md\", 'r') as f:\n",
        "  content = f.read().replace(\"\\*\\*\", \"**\")\n",
        "\n",
        "with open(\"knowledge_base_kyivstar.md\", 'w') as f:\n",
        "  f.write(content)"
      ]
    },
    {
      "cell_type": "markdown",
      "metadata": {
        "id": "wtg8R6Gpixrf"
      },
      "source": [
        "write files with questions that were parsed by Victor and Kostya (they have different format)"
      ]
    },
    {
      "cell_type": "code",
      "execution_count": null,
      "metadata": {
        "id": "Q3tpHBnIcPwX"
      },
      "outputs": [],
      "source": [
        "!tail +220 knowledge_base_kyivstar.md > victors.md"
      ]
    },
    {
      "cell_type": "code",
      "execution_count": null,
      "metadata": {
        "id": "VIHrFVqBcP9n"
      },
      "outputs": [],
      "source": [
        "!head -n 220 knowledge_base_kyivstar.md > kostyas.md"
      ]
    },
    {
      "cell_type": "markdown",
      "metadata": {
        "id": "tyfQvO_8i6NB"
      },
      "source": [
        "parse Victors questions to list"
      ]
    },
    {
      "cell_type": "code",
      "execution_count": null,
      "metadata": {
        "id": "56fet2jwcQXI"
      },
      "outputs": [],
      "source": [
        "with open(\"victors.md\", \"r\") as f:\n",
        "  content = f.read()"
      ]
    },
    {
      "cell_type": "code",
      "execution_count": null,
      "metadata": {
        "id": "4GFrc8mJfAwY"
      },
      "outputs": [],
      "source": [
        "starts = [m.start() for m in re.finditer(r\"^\\d+\\. \\*\\*\", content, re.M)]"
      ]
    },
    {
      "cell_type": "code",
      "execution_count": null,
      "metadata": {
        "id": "A1By-QFdfAtx"
      },
      "outputs": [],
      "source": [
        "questions_v = []\n",
        "\n",
        "for i, start in enumerate(starts):\n",
        "  next_start = starts[i + 1] if i + 1 != len(starts) else -1\n",
        "  question = content[start:next_start].strip()\n",
        "\n",
        "  question = re.sub(r\"\\[https.+?\\]\\(https.+?\\)\", \"\", question)\n",
        "  question = \"\\n\".join([i for i in question.split(\"\\n\") if i.strip()])\n",
        "  questions_v.append(question)"
      ]
    },
    {
      "cell_type": "code",
      "execution_count": null,
      "metadata": {
        "colab": {
          "base_uri": "https://localhost:8080/"
        },
        "id": "tKBTSb7EfAq6",
        "outputId": "b7bc5c3f-37b4-4843-bd45-a50d26b635a4"
      },
      "outputs": [
        {
          "data": {
            "text/plain": [
              "250"
            ]
          },
          "execution_count": 9,
          "metadata": {},
          "output_type": "execute_result"
        }
      ],
      "source": [
        "len(questions_v)"
      ]
    },
    {
      "cell_type": "markdown",
      "metadata": {
        "id": "MQDgSX36jBPA"
      },
      "source": [
        "parse Kostyas questions to list"
      ]
    },
    {
      "cell_type": "code",
      "execution_count": null,
      "metadata": {
        "id": "fVmkS76Sigfw"
      },
      "outputs": [],
      "source": [
        "with open(\"kostyas.md\", \"r\") as f:\n",
        "  content = f.read()"
      ]
    },
    {
      "cell_type": "code",
      "execution_count": null,
      "metadata": {
        "id": "Uf-u4-hYih8O"
      },
      "outputs": [],
      "source": [
        "starts = [m.start() for m in re.finditer(r\"^\\t?(  )?\\d+\\\\?\\. \\*\\*\", content, re.M)]"
      ]
    },
    {
      "cell_type": "code",
      "execution_count": null,
      "metadata": {
        "id": "26HerwH7hrYm"
      },
      "outputs": [],
      "source": [
        "questions_k = []\n",
        "\n",
        "for i, start in enumerate(starts):\n",
        "  next_start = starts[i + 1] if i + 1 != len(starts) else -1\n",
        "  question = content[start:next_start].strip()\n",
        "  questions_k.append(question)"
      ]
    },
    {
      "cell_type": "code",
      "execution_count": null,
      "metadata": {
        "colab": {
          "base_uri": "https://localhost:8080/"
        },
        "id": "jmHYvM-XhrWA",
        "outputId": "621b312b-5dc4-4715-fbb4-730d0548b120"
      },
      "outputs": [
        {
          "data": {
            "text/plain": [
              "49"
            ]
          },
          "execution_count": 13,
          "metadata": {},
          "output_type": "execute_result"
        }
      ],
      "source": [
        "len(questions_k)"
      ]
    },
    {
      "cell_type": "markdown",
      "metadata": {
        "id": "C-2KgurtjD-B"
      },
      "source": [
        "Combine"
      ]
    },
    {
      "cell_type": "code",
      "execution_count": null,
      "metadata": {
        "id": "4oYobLnNhrRm"
      },
      "outputs": [],
      "source": [
        "questions = []\n",
        "questions += questions_k\n",
        "questions += questions_v"
      ]
    },
    {
      "cell_type": "code",
      "execution_count": null,
      "metadata": {
        "colab": {
          "base_uri": "https://localhost:8080/"
        },
        "id": "Vul_74K-hrJz",
        "outputId": "b8916b64-6f28-43a1-e045-1493cb6fa558"
      },
      "outputs": [
        {
          "data": {
            "text/plain": [
              "299"
            ]
          },
          "execution_count": 15,
          "metadata": {},
          "output_type": "execute_result"
        }
      ],
      "source": [
        "len(questions)"
      ]
    },
    {
      "cell_type": "code",
      "execution_count": null,
      "metadata": {
        "colab": {
          "base_uri": "https://localhost:8080/"
        },
        "id": "h34gFwJFk629",
        "outputId": "8682bdb5-44ec-4674-c979-a6fa64f9192a"
      },
      "outputs": [
        {
          "data": {
            "text/plain": [
              "['1\\\\. **Які є тарифи тільки для дзвінків?**   \\nПропонуємо подивитися умови тарифу LOVE UA На максимум з підключеною Суперсилою Економія. У вас буде безлім на Київстар, 500 МБ Інтернету та ще одна Суперсилу на вибір. Вартість тарифу — 125 грн/4 тижні (заощаджуйте 50 грн, від звичайної вартості 175 грн/4 тижні).',\n",
              " '2\\\\. **Як перевірити мобільний рахунок?** Надішліть запит \\\\*111\\\\#. Так само можна перевірити рахунок у роумінгу. Скористайтеся додатком Мій Київстар.',\n",
              " \"3\\\\. **Що робити, якщо кошти випадково пішли не на той номер?** Якомога швидше напишіть нам у чат. Будь ласка, зауважте, що абонентам передплаченого зв'язку наразі технічно неможливо повернути помилковий платіж. Існує низка технічних обмежень, що не дозволяють компанії повернути помилковий платіж. Наприклад, якщо одержувач уже використав зараховані кошти. Відкликати платіж може касир або служба підтримки термінала і лише в день оплати.\",\n",
              " '4\\\\. **Як перенести гроші на інший мобільний номер?** З цією технологічною можливістю ви маєте змогу розподілити залишок коштів між мобільними номерами Київстар.  \\nДокладніше:\\n\\n* за номером 922\\\\*40  \\n* за запитом \\\\*124\\\\#  \\n* в описі на нашому сайті.  \\n  Технологічною можливістю можуть скористатися незареєстровані абоненти передплати протягом 2 діб після того, як сума витрат за номером досягне 40 грн.',\n",
              " '5\\\\. **Як перевірити рахунок родича?** Послуга Довірена особа дозволяє контролювати кошти і регулювати їх витрату, а також вчасно поповнювати рахунок іншого абонента Київстар. Щоб скористатися послугою, достатньо одержати дозвіл від абонента дізнаватися стан його рахунку. Правила управління та комбінації – в описі послуги Довірена особа.',\n",
              " '6\\\\. **Можна оплатити додаткові пакети мобільного інтернету з бонусного рахунку?** Так, ви можете оплатити додаткові пакети мегабайтів з бонусного рахунку або через послугу Екстра Гроші.',\n",
              " '7\\\\. **Який тариф підходить для планшета?** Ви можете обрати для себе найзручніший варіант:  \\n    \\n* Перейти на будь-який тариф з безлім-інтернетом і безкоштовною SIM для планшета, щоб користуватись мобільним інтернетом одразу на смарфтоні й планшеті. Якщо ви хочете приєднатись до нашої мережі, купуйте стартовий пакет онлайн з безлім-тарифами на shop.kyivstar.ua.  \\n* Підключити послугу \"SIM для планшета\" окремо до будь-якого тарифного плану.',\n",
              " \"8\\\\. **Як дізнатися свої тарифи на мобільний інтернет?** Усі умови вашого тарифу можна переглянути у додатку Мій Київстар або авторизуйтеся на сайті та перейдіть на сторінку Тарифи. Також ви можете перейти на сторінку Архів тарифів, вибрати форму обслуговування (Контракт або Передплата), ввести в текстове поле назву свого тарифного плану і перейти до його опису. Якщо ви не пам'ятаєте назву свого тарифу, скористайтеся одним зі способів у блоці «Як дізнатися назву свого тарифного плану?» на тій же сторінці.\",\n",
              " '9\\\\. **Як дізнатися свій тарифний план?** Є декілька способів:\\n\\n* за запитом \\\\*100\\\\*01\\\\*2\\\\#  \\n* авторизуйтеся на сайті та перейдіть на сторінку Тарифи  \\n* у додатку Мій Київстар  \\n* за номером 466\\\\*66',\n",
              " '10\\\\. **Як змінити тарифний план?** Є кілька варіантів:\\n\\n* На сайті у розділі Тарифи  \\n* За номером 477 або 477\\\\*1  \\n* У додатку Мій Київстар (розділ Усі тарифи)  \\n* За номером 466  \\n* У магазинах Київстар']"
            ]
          },
          "execution_count": 16,
          "metadata": {},
          "output_type": "execute_result"
        }
      ],
      "source": [
        "questions[:10]"
      ]
    },
    {
      "cell_type": "code",
      "execution_count": null,
      "metadata": {
        "colab": {
          "base_uri": "https://localhost:8080/"
        },
        "id": "nkYo7g3psw2K",
        "outputId": "5d8a0de0-fdad-4cb1-a222-36605bcf84d7"
      },
      "outputs": [
        {
          "name": "stdout",
          "output_type": "stream",
          "text": [
            "True\n"
          ]
        }
      ],
      "source": [
        "import pickle\n",
        "\n",
        "with open('questions.pickle', 'wb') as handle:\n",
        "    pickle.dump(questions, handle, protocol=pickle.HIGHEST_PROTOCOL)\n",
        "\n",
        "with open('questions.pickle', 'rb') as handle:\n",
        "    b = pickle.load(handle)\n",
        "\n",
        "print(questions == b)"
      ]
    },
    {
      "cell_type": "markdown",
      "metadata": {
        "id": "xZDYcLz-kZsW"
      },
      "source": [
        "## END OF generating questions list"
      ]
    },
    {
      "cell_type": "code",
      "execution_count": null,
      "metadata": {
        "id": "Fd0WO0Osiu52"
      },
      "outputs": [],
      "source": []
    },
    {
      "cell_type": "code",
      "execution_count": null,
      "metadata": {
        "id": "rmWx2Abaiu3f"
      },
      "outputs": [],
      "source": []
    },
    {
      "cell_type": "code",
      "execution_count": null,
      "metadata": {
        "id": "kCUgKlMKiu1J"
      },
      "outputs": [],
      "source": []
    },
    {
      "cell_type": "code",
      "execution_count": null,
      "metadata": {
        "id": "OB1ton_wiuyj"
      },
      "outputs": [],
      "source": []
    },
    {
      "cell_type": "code",
      "execution_count": null,
      "metadata": {
        "id": "X3O_xhlhiuv8"
      },
      "outputs": [],
      "source": []
    },
    {
      "cell_type": "markdown",
      "metadata": {
        "id": "quEkaqCItZVT"
      },
      "source": [
        "## Get embeddings"
      ]
    },
    {
      "cell_type": "code",
      "execution_count": null,
      "metadata": {
        "colab": {
          "base_uri": "https://localhost:8080/"
        },
        "id": "mCseHM0gbgZN",
        "outputId": "f6bde8a1-85cd-4473-f813-96504005c1ab"
      },
      "outputs": [
        {
          "name": "stdout",
          "output_type": "stream",
          "text": [
            "\u001b[?25l   \u001b[90m━━━━━━━━━━━━━━━━━━━━━━━━━━━━━━━━━━━━━━━━\u001b[0m \u001b[32m0.0/1.2 MB\u001b[0m \u001b[31m?\u001b[0m eta \u001b[36m-:--:--\u001b[0m\r\u001b[2K   \u001b[91m━━━\u001b[0m\u001b[90m╺\u001b[0m\u001b[90m━━━━━━━━━━━━━━━━━━━━━━━━━━━━━━━━━━━━\u001b[0m \u001b[32m0.1/1.2 MB\u001b[0m \u001b[31m2.5 MB/s\u001b[0m eta \u001b[36m0:00:01\u001b[0m\r\u001b[2K   \u001b[91m━━━━━━━━━━━━━━━━━━━━━━\u001b[0m\u001b[90m╺\u001b[0m\u001b[90m━━━━━━━━━━━━━━━━━\u001b[0m \u001b[32m0.7/1.2 MB\u001b[0m \u001b[31m9.4 MB/s\u001b[0m eta \u001b[36m0:00:01\u001b[0m\r\u001b[2K   \u001b[90m━━━━━━━━━━━━━━━━━━━━━━━━━━━━━━━━━━━━━━━━\u001b[0m \u001b[32m1.2/1.2 MB\u001b[0m \u001b[31m12.3 MB/s\u001b[0m eta \u001b[36m0:00:00\u001b[0m\n",
            "\u001b[?25h"
          ]
        }
      ],
      "source": [
        "!pip install -q httpx==0.27.2\n",
        "!pip install -q openai\n",
        "!pip install -q tiktoken"
      ]
    },
    {
      "cell_type": "code",
      "execution_count": null,
      "metadata": {
        "id": "FuBCtHHhbhJY"
      },
      "outputs": [],
      "source": [
        "from openai import OpenAI\n",
        "import tiktoken"
      ]
    },
    {
      "cell_type": "code",
      "execution_count": null,
      "metadata": {
        "id": "mwjOwX-jbfLH"
      },
      "outputs": [],
      "source": [
        "from google.colab import userdata\n",
        "OPENAI_API_KEY = userdata.get('OPENAI_API_KEY')"
      ]
    },
    {
      "cell_type": "code",
      "execution_count": null,
      "metadata": {
        "id": "mOOl821LbcFL"
      },
      "outputs": [],
      "source": [
        "client = OpenAI(api_key=OPENAI_API_KEY)\n",
        "\n",
        "def get_embedding(text, model=\"text-embedding-3-small\"):\n",
        "   text = text.replace(\"\\n\", \" \")\n",
        "   return client.embeddings.create(input=[text], model=model).data[0].embedding"
      ]
    },
    {
      "cell_type": "code",
      "execution_count": null,
      "metadata": {
        "id": "uZ-nMWSqmxnK"
      },
      "outputs": [],
      "source": [
        "def num_tokens_from_string(string: str, encoding_name: str = \"cl100k_base\") -> int:\n",
        "    encoding = tiktoken.get_encoding(encoding_name)\n",
        "    num_tokens = len(encoding.encode(string))\n",
        "    return num_tokens\n",
        "\n",
        "def price_of_embedding_request(string: str) -> float:\n",
        "  # https://openai.com/api/pricing/#:~:text=text%2Dembedding%2D3,0.020%20/%201M%20tokens\n",
        "  price_per_token = 0.02 / 1_000_000\n",
        "  tokens = num_tokens_from_string(string)\n",
        "  return tokens * price_per_token"
      ]
    },
    {
      "cell_type": "code",
      "execution_count": null,
      "metadata": {
        "colab": {
          "base_uri": "https://localhost:8080/"
        },
        "id": "7XiJp_5-pZKT",
        "outputId": "3aa95411-9097-4c9a-c230-372c554250a0"
      },
      "outputs": [
        {
          "name": "stderr",
          "output_type": "stream",
          "text": [
            "100%|██████████| 299/299 [00:00<00:00, 5153.39it/s]"
          ]
        },
        {
          "name": "stdout",
          "output_type": "stream",
          "text": [
            "\n",
            "$0.0016315200000000002\n"
          ]
        },
        {
          "name": "stderr",
          "output_type": "stream",
          "text": [
            "\n"
          ]
        }
      ],
      "source": [
        "total_price = 0\n",
        "\n",
        "for question in tqdm(questions):\n",
        "  total_price += price_of_embedding_request(question)\n",
        "\n",
        "print()\n",
        "print(f\"${total_price}\" )"
      ]
    },
    {
      "cell_type": "code",
      "execution_count": null,
      "metadata": {
        "id": "DB-OBkFbqT7o"
      },
      "outputs": [],
      "source": [
        "embeddings = []\n",
        "\n",
        "for question in tqdm(questions):\n",
        "  embedding = get_embedding(question)\n",
        "  embeddings.append(embedding)"
      ]
    },
    {
      "cell_type": "code",
      "execution_count": null,
      "metadata": {
        "colab": {
          "base_uri": "https://localhost:8080/"
        },
        "id": "kay2ElpzrS-c",
        "outputId": "740dfb0a-9b10-4c77-c050-1bf1f634318c"
      },
      "outputs": [
        {
          "name": "stdout",
          "output_type": "stream",
          "text": [
            "True\n"
          ]
        }
      ],
      "source": [
        "import pickle\n",
        "\n",
        "with open('embeddings.pickle', 'wb') as handle:\n",
        "    pickle.dump(embeddings, handle, protocol=pickle.HIGHEST_PROTOCOL)\n",
        "\n",
        "with open('embeddings.pickle', 'rb') as handle:\n",
        "    b = pickle.load(handle)\n",
        "\n",
        "print(embeddings == b)"
      ]
    }
  ],
  "metadata": {
    "colab": {
      "provenance": []
    },
    "kernelspec": {
      "display_name": "Python 3",
      "name": "python3"
    },
    "language_info": {
      "name": "python"
    }
  },
  "nbformat": 4,
  "nbformat_minor": 0
}
